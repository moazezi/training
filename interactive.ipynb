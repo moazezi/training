{
 "cells": [
  {
   "cell_type": "code",
   "execution_count": 1,
   "id": "cb208c3b",
   "metadata": {},
   "outputs": [
    {
     "name": "stdout",
     "output_type": "stream",
     "text": [
      "hello worlds..\n"
     ]
    }
   ],
   "source": [
    "print(\"hello worlds..\")"
   ]
  },
  {
   "cell_type": "code",
   "execution_count": 2,
   "id": "e535e4e5",
   "metadata": {},
   "outputs": [
    {
     "name": "stdout",
     "output_type": "stream",
     "text": [
      "here is my second modification\n"
     ]
    }
   ],
   "source": [
    "print(\"here is my second modification\")"
   ]
  }
 ],
 "metadata": {
  "kernelspec": {
   "display_name": "Python 3",
   "language": "python",
   "name": "python3"
  },
  "language_info": {
   "codemirror_mode": {
    "name": "ipython",
    "version": 3
   },
   "file_extension": ".py",
   "mimetype": "text/x-python",
   "name": "python",
   "nbconvert_exporter": "python",
   "pygments_lexer": "ipython3",
   "version": "3.13.4"
  }
 },
 "nbformat": 4,
 "nbformat_minor": 5
}
